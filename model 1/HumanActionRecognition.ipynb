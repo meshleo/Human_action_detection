{
 "cells": [
  {
   "cell_type": "markdown",
   "metadata": {},
   "source": [
    "# Import Libraries"
   ]
  },
  {
   "cell_type": "code",
   "execution_count": 2,
   "metadata": {
    "executionInfo": {
     "elapsed": 5196,
     "status": "ok",
     "timestamp": 1705575351296,
     "user": {
      "displayName": "phd india",
      "userId": "15133022939019148607"
     },
     "user_tz": -330
    },
    "id": "MwNc6Mvtt_jE"
   },
   "outputs": [
    {
     "ename": "ModuleNotFoundError",
     "evalue": "No module named 'cv2'",
     "output_type": "error",
     "traceback": [
      "\u001b[1;31m---------------------------------------------------------------------------\u001b[0m",
      "\u001b[1;31mModuleNotFoundError\u001b[0m                       Traceback (most recent call last)",
      "Cell \u001b[1;32mIn[2], line 6\u001b[0m\n\u001b[0;32m      4\u001b[0m \u001b[38;5;28;01mimport\u001b[39;00m \u001b[38;5;21;01mos\u001b[39;00m\n\u001b[0;32m      5\u001b[0m \u001b[38;5;28;01mimport\u001b[39;00m \u001b[38;5;21;01mgc\u001b[39;00m\n\u001b[1;32m----> 6\u001b[0m \u001b[38;5;28;01mimport\u001b[39;00m \u001b[38;5;21;01mcv2\u001b[39;00m\n\u001b[0;32m      7\u001b[0m \u001b[38;5;28;01mimport\u001b[39;00m \u001b[38;5;21;01mpandas\u001b[39;00m \u001b[38;5;28;01mas\u001b[39;00m \u001b[38;5;21;01mpd\u001b[39;00m\n\u001b[0;32m      8\u001b[0m \u001b[38;5;28;01mimport\u001b[39;00m \u001b[38;5;21;01mnumpy\u001b[39;00m \u001b[38;5;28;01mas\u001b[39;00m \u001b[38;5;21;01mnp\u001b[39;00m\n",
      "\u001b[1;31mModuleNotFoundError\u001b[0m: No module named 'cv2'"
     ]
    }
   ],
   "source": [
    "import warnings\n",
    "warnings.filterwarnings(\"ignore\")\n",
    "\n",
    "import os\n",
    "import gc\n",
    "import cv2\n",
    "import pandas as pd\n",
    "import numpy as np\n",
    "import matplotlib.pyplot as plt\n",
    "%matplotlib inline\n",
    "from lib_file import lib_path\n",
    "import random\n",
    "import seaborn as sns\n",
    "from tqdm import tqdm\n",
    "from sklearn.model_selection import train_test_split\n",
    "from sklearn.metrics import accuracy_score, classification_report, confusion_matrix\n",
    "import tensorflow as tf\n",
    "\n",
    "SEED = 42\n",
    "random.seed(SEED)\n",
    "np.random.seed(SEED)\n",
    "tf.random.set_seed(SEED)"
   ]
  },
  {
   "cell_type": "code",
   "execution_count": 3,
   "metadata": {
    "colab": {
     "base_uri": "https://localhost:8080/"
    },
    "executionInfo": {
     "elapsed": 7,
     "status": "ok",
     "timestamp": 1705575351297,
     "user": {
      "displayName": "phd india",
      "userId": "15133022939019148607"
     },
     "user_tz": -330
    },
    "id": "0b3i5DbXvTVI",
    "outputId": "e4deef19-36bf-4c55-84d9-8fbc047d99e7"
   },
   "outputs": [
    {
     "name": "stdout",
     "output_type": "stream",
     "text": [
      "['basketball', 'biking', 'diving', 'horse_riding']\n"
     ]
    }
   ],
   "source": [
    "BASE_DIR = \"input\"\n",
    "\n",
    "class_labels = os.listdir(BASE_DIR)\n",
    "class_labels.sort()\n",
    "\n",
    "print(class_labels)"
   ]
  },
  {
   "cell_type": "code",
   "execution_count": 4,
   "metadata": {
    "colab": {
     "base_uri": "https://localhost:8080/"
    },
    "executionInfo": {
     "elapsed": 23491,
     "status": "ok",
     "timestamp": 1705575374783,
     "user": {
      "displayName": "phd india",
      "userId": "15133022939019148607"
     },
     "user_tz": -330
    },
    "id": "2YDCDKyQviZ8",
    "outputId": "0f0ca55a-8ca2-46fa-a63f-ff6661e2a1da"
   },
   "outputs": [
    {
     "ename": "NameError",
     "evalue": "name 'tqdm' is not defined",
     "output_type": "error",
     "traceback": [
      "\u001b[1;31m---------------------------------------------------------------------------\u001b[0m",
      "\u001b[1;31mNameError\u001b[0m                                 Traceback (most recent call last)",
      "Cell \u001b[1;32mIn[4], line 4\u001b[0m\n\u001b[0;32m      1\u001b[0m video_paths \u001b[38;5;241m=\u001b[39m []\n\u001b[0;32m      2\u001b[0m targets \u001b[38;5;241m=\u001b[39m []\n\u001b[1;32m----> 4\u001b[0m \u001b[38;5;28;01mfor\u001b[39;00m target \u001b[38;5;129;01min\u001b[39;00m tqdm(class_labels):\n\u001b[0;32m      5\u001b[0m     target_path \u001b[38;5;241m=\u001b[39m os\u001b[38;5;241m.\u001b[39mpath\u001b[38;5;241m.\u001b[39mjoin(BASE_DIR, target)\n\u001b[0;32m      6\u001b[0m     sub_target_folders \u001b[38;5;241m=\u001b[39m os\u001b[38;5;241m.\u001b[39mlistdir(target_path)\n",
      "\u001b[1;31mNameError\u001b[0m: name 'tqdm' is not defined"
     ]
    }
   ],
   "source": [
    "video_paths = []\n",
    "targets = []\n",
    "\n",
    "for target in tqdm(class_labels):\n",
    "    target_path = os.path.join(BASE_DIR, target)\n",
    "    sub_target_folders = os.listdir(target_path)\n",
    "    for subfolder in sub_target_folders:\n",
    "        if str(subfolder).lower() != \"annotation\":\n",
    "            sub_target_folder_path = os.path.join(target_path, subfolder)\n",
    "            video_files = os.listdir(sub_target_folder_path)\n",
    "            video_files = [os.path.join(sub_target_folder_path, file_) for file_ in video_files]\n",
    "            video_paths.extend(video_files)\n",
    "            targets.extend([target]*len(video_files))"
   ]
  },
  {
   "cell_type": "code",
   "execution_count": 5,
   "metadata": {
    "colab": {
     "base_uri": "https://localhost:8080/",
     "height": 206
    },
    "executionInfo": {
     "elapsed": 9,
     "status": "ok",
     "timestamp": 1705575376767,
     "user": {
      "displayName": "phd india",
      "userId": "15133022939019148607"
     },
     "user_tz": -330
    },
    "id": "yH110QhFwPKq",
    "outputId": "5d1bb309-aa77-4338-cab3-9e9872c477f8"
   },
   "outputs": [
    {
     "ename": "NameError",
     "evalue": "name 'pd' is not defined",
     "output_type": "error",
     "traceback": [
      "\u001b[1;31m---------------------------------------------------------------------------\u001b[0m",
      "\u001b[1;31mNameError\u001b[0m                                 Traceback (most recent call last)",
      "Cell \u001b[1;32mIn[5], line 1\u001b[0m\n\u001b[1;32m----> 1\u001b[0m df \u001b[38;5;241m=\u001b[39m pd\u001b[38;5;241m.\u001b[39mDataFrame()\n\u001b[0;32m      2\u001b[0m df[\u001b[38;5;124m'\u001b[39m\u001b[38;5;124mvideo_paths\u001b[39m\u001b[38;5;124m'\u001b[39m] \u001b[38;5;241m=\u001b[39m video_paths\n\u001b[0;32m      3\u001b[0m df[\u001b[38;5;124m'\u001b[39m\u001b[38;5;124mtargets\u001b[39m\u001b[38;5;124m'\u001b[39m] \u001b[38;5;241m=\u001b[39m targets\n",
      "\u001b[1;31mNameError\u001b[0m: name 'pd' is not defined"
     ]
    }
   ],
   "source": [
    "df = pd.DataFrame()\n",
    "df['video_paths'] = video_paths\n",
    "df['targets'] = targets\n",
    "\n",
    "df.head()"
   ]
  },
  {
   "cell_type": "code",
   "execution_count": 6,
   "metadata": {
    "colab": {
     "base_uri": "https://localhost:8080/",
     "height": 206
    },
    "executionInfo": {
     "elapsed": 8,
     "status": "ok",
     "timestamp": 1705575379189,
     "user": {
      "displayName": "phd india",
      "userId": "15133022939019148607"
     },
     "user_tz": -330
    },
    "id": "jCHqDJiJ1cp5",
    "outputId": "6778e58e-ff5b-4dac-d65d-8efe69581e87"
   },
   "outputs": [
    {
     "ename": "NameError",
     "evalue": "name 'df' is not defined",
     "output_type": "error",
     "traceback": [
      "\u001b[1;31m---------------------------------------------------------------------------\u001b[0m",
      "\u001b[1;31mNameError\u001b[0m                                 Traceback (most recent call last)",
      "Cell \u001b[1;32mIn[6], line 1\u001b[0m\n\u001b[1;32m----> 1\u001b[0m df\u001b[38;5;241m.\u001b[39mtail()\n",
      "\u001b[1;31mNameError\u001b[0m: name 'df' is not defined"
     ]
    }
   ],
   "source": [
    "df.tail()"
   ]
  },
  {
   "cell_type": "code",
   "execution_count": 7,
   "metadata": {
    "colab": {
     "base_uri": "https://localhost:8080/"
    },
    "executionInfo": {
     "elapsed": 741,
     "status": "ok",
     "timestamp": 1705575394156,
     "user": {
      "displayName": "phd india",
      "userId": "15133022939019148607"
     },
     "user_tz": -330
    },
    "id": "YZiyrRtoC8U4",
    "outputId": "8c48dec2-f090-4359-e64e-13c2b2d7ff9a"
   },
   "outputs": [
    {
     "ename": "NameError",
     "evalue": "name 'df' is not defined",
     "output_type": "error",
     "traceback": [
      "\u001b[1;31m---------------------------------------------------------------------------\u001b[0m",
      "\u001b[1;31mNameError\u001b[0m                                 Traceback (most recent call last)",
      "Cell \u001b[1;32mIn[7], line 1\u001b[0m\n\u001b[1;32m----> 1\u001b[0m df\u001b[38;5;241m.\u001b[39mshape\n",
      "\u001b[1;31mNameError\u001b[0m: name 'df' is not defined"
     ]
    }
   ],
   "source": [
    "df.shape"
   ]
  },
  {
   "cell_type": "code",
   "execution_count": 8,
   "metadata": {
    "colab": {
     "base_uri": "https://localhost:8080/"
    },
    "executionInfo": {
     "elapsed": 701,
     "status": "ok",
     "timestamp": 1705575414511,
     "user": {
      "displayName": "phd india",
      "userId": "15133022939019148607"
     },
     "user_tz": -330
    },
    "id": "dfV1wvV5N1WU",
    "outputId": "09175ae2-bbc8-43e0-f5be-b3310da5d8f1"
   },
   "outputs": [
    {
     "ename": "NameError",
     "evalue": "name 'df' is not defined",
     "output_type": "error",
     "traceback": [
      "\u001b[1;31m---------------------------------------------------------------------------\u001b[0m",
      "\u001b[1;31mNameError\u001b[0m                                 Traceback (most recent call last)",
      "Cell \u001b[1;32mIn[8], line 1\u001b[0m\n\u001b[1;32m----> 1\u001b[0m df[\u001b[38;5;124m'\u001b[39m\u001b[38;5;124mtargets\u001b[39m\u001b[38;5;124m'\u001b[39m]\u001b[38;5;241m.\u001b[39mvalue_counts()\n",
      "\u001b[1;31mNameError\u001b[0m: name 'df' is not defined"
     ]
    }
   ],
   "source": [
    "df['targets'].value_counts()"
   ]
  },
  {
   "cell_type": "code",
   "execution_count": 9,
   "metadata": {
    "colab": {
     "base_uri": "https://localhost:8080/",
     "height": 523
    },
    "executionInfo": {
     "elapsed": 832,
     "status": "ok",
     "timestamp": 1705575430495,
     "user": {
      "displayName": "phd india",
      "userId": "15133022939019148607"
     },
     "user_tz": -330
    },
    "id": "moColTwq1gbc",
    "outputId": "cc53075a-65fe-4f09-f385-80093475f832"
   },
   "outputs": [
    {
     "ename": "NameError",
     "evalue": "name 'df' is not defined",
     "output_type": "error",
     "traceback": [
      "\u001b[1;31m---------------------------------------------------------------------------\u001b[0m",
      "\u001b[1;31mNameError\u001b[0m                                 Traceback (most recent call last)",
      "Cell \u001b[1;32mIn[9], line 1\u001b[0m\n\u001b[1;32m----> 1\u001b[0m chart_data \u001b[38;5;241m=\u001b[39m \u001b[38;5;28mdict\u001b[39m(df[\u001b[38;5;124m'\u001b[39m\u001b[38;5;124mtargets\u001b[39m\u001b[38;5;124m'\u001b[39m]\u001b[38;5;241m.\u001b[39mvalue_counts())\n\u001b[0;32m      2\u001b[0m \u001b[38;5;28;01mwith\u001b[39;00m plt\u001b[38;5;241m.\u001b[39mstyle\u001b[38;5;241m.\u001b[39mcontext(style\u001b[38;5;241m=\u001b[39m\u001b[38;5;124m\"\u001b[39m\u001b[38;5;124mfivethirtyeight\u001b[39m\u001b[38;5;124m\"\u001b[39m):\n\u001b[0;32m      3\u001b[0m     plt\u001b[38;5;241m.\u001b[39mfigure(figsize\u001b[38;5;241m=\u001b[39m(\u001b[38;5;241m8\u001b[39m,\u001b[38;5;241m5\u001b[39m))\n",
      "\u001b[1;31mNameError\u001b[0m: name 'df' is not defined"
     ]
    }
   ],
   "source": [
    "chart_data = dict(df['targets'].value_counts())\n",
    "with plt.style.context(style=\"fivethirtyeight\"):\n",
    "    plt.figure(figsize=(8,5))\n",
    "    plt.rcParams['font.size'] = 15\n",
    "    plt.bar(x=list(chart_data.keys()),\n",
    "           height=list(chart_data.values()))\n",
    "    plt.title(label=\"Bar-chart with 'targets' feature\", fontsize=20)\n",
    "    plt.xlabel(xlabel=\"Targets\", fontsize=15)\n",
    "    plt.ylabel(ylabel=\"Number of samples\", fontsize=15)\n",
    "    plt.xticks(fontsize=15)\n",
    "    plt.yticks(fontsize=15)\n",
    "    for x, y in zip(chart_data.keys(), chart_data.values()):\n",
    "        plt.text(x, y, str(y), ha='center', va='bottom')\n",
    "    plt.show()"
   ]
  },
  {
   "cell_type": "code",
   "execution_count": 10,
   "metadata": {
    "colab": {
     "base_uri": "https://localhost:8080/",
     "height": 472
    },
    "executionInfo": {
     "elapsed": 9,
     "status": "ok",
     "timestamp": 1705575433270,
     "user": {
      "displayName": "phd india",
      "userId": "15133022939019148607"
     },
     "user_tz": -330
    },
    "id": "r6u7Z1e52CDW",
    "outputId": "35472c69-f618-4796-8a01-5fd1ecbeafb3"
   },
   "outputs": [
    {
     "ename": "NameError",
     "evalue": "name 'df' is not defined",
     "output_type": "error",
     "traceback": [
      "\u001b[1;31m---------------------------------------------------------------------------\u001b[0m",
      "\u001b[1;31mNameError\u001b[0m                                 Traceback (most recent call last)",
      "Cell \u001b[1;32mIn[10], line 1\u001b[0m\n\u001b[1;32m----> 1\u001b[0m chart_data \u001b[38;5;241m=\u001b[39m \u001b[38;5;28mdict\u001b[39m(df[\u001b[38;5;124m'\u001b[39m\u001b[38;5;124mtargets\u001b[39m\u001b[38;5;124m'\u001b[39m]\u001b[38;5;241m.\u001b[39mvalue_counts())\n\u001b[0;32m      2\u001b[0m \u001b[38;5;28;01mwith\u001b[39;00m plt\u001b[38;5;241m.\u001b[39mstyle\u001b[38;5;241m.\u001b[39mcontext(style\u001b[38;5;241m=\u001b[39m\u001b[38;5;124m\"\u001b[39m\u001b[38;5;124mfivethirtyeight\u001b[39m\u001b[38;5;124m\"\u001b[39m):\n\u001b[0;32m      3\u001b[0m     plt\u001b[38;5;241m.\u001b[39mfigure(figsize\u001b[38;5;241m=\u001b[39m(\u001b[38;5;241m8\u001b[39m,\u001b[38;5;241m5\u001b[39m))\n",
      "\u001b[1;31mNameError\u001b[0m: name 'df' is not defined"
     ]
    }
   ],
   "source": [
    "chart_data = dict(df['targets'].value_counts())\n",
    "with plt.style.context(style=\"fivethirtyeight\"):\n",
    "    plt.figure(figsize=(8,5))\n",
    "    plt.rcParams['font.size'] = 15\n",
    "    plt.pie(labels=list(chart_data.keys()),\n",
    "           x=list(chart_data.values()),\n",
    "           autopct=\"%.2f%%\")\n",
    "    plt.title(label=\"Pie-chart with 'targets' feature\", fontsize=20)\n",
    "    plt.show()"
   ]
  },
  {
   "cell_type": "code",
   "execution_count": 11,
   "metadata": {
    "colab": {
     "base_uri": "https://localhost:8080/"
    },
    "executionInfo": {
     "elapsed": 5,
     "status": "ok",
     "timestamp": 1705575451864,
     "user": {
      "displayName": "phd india",
      "userId": "15133022939019148607"
     },
     "user_tz": -330
    },
    "id": "ONZh4unO9yeV",
    "outputId": "7a92ffe2-cdd6-4532-97a6-043467207b10"
   },
   "outputs": [
    {
     "name": "stdout",
     "output_type": "stream",
     "text": [
      "{'basketball': 0, 'biking': 1, 'diving': 2, 'horse_riding': 3}\n"
     ]
    }
   ],
   "source": [
    "class_dict = {}\n",
    "for idx, label in enumerate(class_labels):\n",
    "    class_dict[label] = idx\n",
    "\n",
    "print(class_dict)"
   ]
  },
  {
   "cell_type": "code",
   "execution_count": 12,
   "metadata": {
    "colab": {
     "base_uri": "https://localhost:8080/",
     "height": 206
    },
    "executionInfo": {
     "elapsed": 9,
     "status": "ok",
     "timestamp": 1705575453845,
     "user": {
      "displayName": "phd india",
      "userId": "15133022939019148607"
     },
     "user_tz": -330
    },
    "id": "hlsSbhEp-KC1",
    "outputId": "ece73240-bd33-4ca6-b78f-1e4f9f4d2b38"
   },
   "outputs": [
    {
     "ename": "NameError",
     "evalue": "name 'df' is not defined",
     "output_type": "error",
     "traceback": [
      "\u001b[1;31m---------------------------------------------------------------------------\u001b[0m",
      "\u001b[1;31mNameError\u001b[0m                                 Traceback (most recent call last)",
      "Cell \u001b[1;32mIn[12], line 1\u001b[0m\n\u001b[1;32m----> 1\u001b[0m df[\u001b[38;5;124m'\u001b[39m\u001b[38;5;124mtargets\u001b[39m\u001b[38;5;124m'\u001b[39m] \u001b[38;5;241m=\u001b[39m df[\u001b[38;5;124m'\u001b[39m\u001b[38;5;124mtargets\u001b[39m\u001b[38;5;124m'\u001b[39m]\u001b[38;5;241m.\u001b[39mmap(class_dict)\n\u001b[0;32m      2\u001b[0m df\u001b[38;5;241m.\u001b[39mhead()\n",
      "\u001b[1;31mNameError\u001b[0m: name 'df' is not defined"
     ]
    }
   ],
   "source": [
    "df['targets'] = df['targets'].map(class_dict)\n",
    "df.head()"
   ]
  },
  {
   "cell_type": "code",
   "execution_count": 13,
   "metadata": {
    "colab": {
     "base_uri": "https://localhost:8080/",
     "height": 206
    },
    "executionInfo": {
     "elapsed": 791,
     "status": "ok",
     "timestamp": 1705575458783,
     "user": {
      "displayName": "phd india",
      "userId": "15133022939019148607"
     },
     "user_tz": -330
    },
    "id": "K0vfKMCq-SWx",
    "outputId": "feb4d9b7-9d57-4423-ffa1-0e80a9ce0fa3"
   },
   "outputs": [
    {
     "ename": "NameError",
     "evalue": "name 'df' is not defined",
     "output_type": "error",
     "traceback": [
      "\u001b[1;31m---------------------------------------------------------------------------\u001b[0m",
      "\u001b[1;31mNameError\u001b[0m                                 Traceback (most recent call last)",
      "Cell \u001b[1;32mIn[13], line 1\u001b[0m\n\u001b[1;32m----> 1\u001b[0m df \u001b[38;5;241m=\u001b[39m df\u001b[38;5;241m.\u001b[39msample(frac\u001b[38;5;241m=\u001b[39m\u001b[38;5;241m1\u001b[39m)\u001b[38;5;241m.\u001b[39mreset_index(drop\u001b[38;5;241m=\u001b[39m\u001b[38;5;28;01mTrue\u001b[39;00m)\n\u001b[0;32m      2\u001b[0m df\u001b[38;5;241m.\u001b[39mhead()\n",
      "\u001b[1;31mNameError\u001b[0m: name 'df' is not defined"
     ]
    }
   ],
   "source": [
    "df = df.sample(frac=1).reset_index(drop=True)\n",
    "df.head()"
   ]
  },
  {
   "cell_type": "markdown",
   "metadata": {},
   "source": [
    "# Data Loading"
   ]
  },
  {
   "cell_type": "code",
   "execution_count": 14,
   "metadata": {
    "colab": {
     "base_uri": "https://localhost:8080/"
    },
    "executionInfo": {
     "elapsed": 588142,
     "status": "ok",
     "timestamp": 1705576067380,
     "user": {
      "displayName": "phd india",
      "userId": "15133022939019148607"
     },
     "user_tz": -330
    },
    "id": "4YIS-tPZ8vnA",
    "outputId": "36ce87fc-f5b2-4414-a9ec-959c6122786d"
   },
   "outputs": [
    {
     "ename": "NameError",
     "evalue": "name 'tqdm' is not defined",
     "output_type": "error",
     "traceback": [
      "\u001b[1;31m---------------------------------------------------------------------------\u001b[0m",
      "\u001b[1;31mNameError\u001b[0m                                 Traceback (most recent call last)",
      "Cell \u001b[1;32mIn[14], line 7\u001b[0m\n\u001b[0;32m      4\u001b[0m frames \u001b[38;5;241m=\u001b[39m []\n\u001b[0;32m      5\u001b[0m target_labels \u001b[38;5;241m=\u001b[39m []\n\u001b[1;32m----> 7\u001b[0m \u001b[38;5;28;01mfor\u001b[39;00m video_path, numerical_label \u001b[38;5;129;01min\u001b[39;00m tqdm(\u001b[38;5;28mzip\u001b[39m(df[\u001b[38;5;124m'\u001b[39m\u001b[38;5;124mvideo_paths\u001b[39m\u001b[38;5;124m'\u001b[39m]\u001b[38;5;241m.\u001b[39mvalues\u001b[38;5;241m.\u001b[39mtolist(), df[\u001b[38;5;124m'\u001b[39m\u001b[38;5;124mtargets\u001b[39m\u001b[38;5;124m'\u001b[39m]\u001b[38;5;241m.\u001b[39mvalues\u001b[38;5;241m.\u001b[39mtolist()), total\u001b[38;5;241m=\u001b[39m\u001b[38;5;28mlen\u001b[39m(df)):\n\u001b[0;32m      8\u001b[0m     video_reader \u001b[38;5;241m=\u001b[39m cv2\u001b[38;5;241m.\u001b[39mVideoCapture(video_path)\n\u001b[0;32m      9\u001b[0m     video_frames_count \u001b[38;5;241m=\u001b[39m \u001b[38;5;28mint\u001b[39m(video_reader\u001b[38;5;241m.\u001b[39mget(cv2\u001b[38;5;241m.\u001b[39mCAP_PROP_FRAME_COUNT))\n",
      "\u001b[1;31mNameError\u001b[0m: name 'tqdm' is not defined"
     ]
    }
   ],
   "source": [
    "data_length = 20\n",
    "image_height = 96\n",
    "image_width = 96\n",
    "frames = []\n",
    "target_labels = []\n",
    "\n",
    "for video_path, numerical_label in tqdm(zip(df['video_paths'].values.tolist(), df['targets'].values.tolist()), total=len(df)):\n",
    "    video_reader = cv2.VideoCapture(video_path)\n",
    "    video_frames_count = int(video_reader.get(cv2.CAP_PROP_FRAME_COUNT))\n",
    "    if video_frames_count >= data_length:\n",
    "        skip_frames_window = max(int(video_frames_count / data_length), 1)\n",
    "        frames_list = []\n",
    "        for frame_counter in range(data_length):\n",
    "            target_frame_position = round(frame_counter * skip_frames_window)\n",
    "            video_reader.set(cv2.CAP_PROP_POS_FRAMES, target_frame_position)\n",
    "            success, frame = video_reader.read()\n",
    "            if not success:\n",
    "                break\n",
    "            resized_frame = cv2.resize(frame, (image_height, image_width))\n",
    "            normalized_frame = resized_frame / 255.0\n",
    "            frames_list.append(normalized_frame)\n",
    "        video_reader.release()\n",
    "        frames.append(np.array(frames_list))\n",
    "        target_labels.append(numerical_label)\n",
    "    else:\n",
    "        continue"
   ]
  },
  {
   "cell_type": "code",
   "execution_count": 15,
   "metadata": {
    "colab": {
     "base_uri": "https://localhost:8080/"
    },
    "executionInfo": {
     "elapsed": 1603,
     "status": "ok",
     "timestamp": 1705576882638,
     "user": {
      "displayName": "phd india",
      "userId": "15133022939019148607"
     },
     "user_tz": -330
    },
    "id": "hU_vGl8Nmzg4",
    "outputId": "c5461c3d-d86a-4988-d81f-9fc289e3794d"
   },
   "outputs": [
    {
     "ename": "NameError",
     "evalue": "name 'np' is not defined",
     "output_type": "error",
     "traceback": [
      "\u001b[1;31m---------------------------------------------------------------------------\u001b[0m",
      "\u001b[1;31mNameError\u001b[0m                                 Traceback (most recent call last)",
      "Cell \u001b[1;32mIn[15], line 1\u001b[0m\n\u001b[1;32m----> 1\u001b[0m frames \u001b[38;5;241m=\u001b[39m np\u001b[38;5;241m.\u001b[39masarray(frames)\n\u001b[0;32m      2\u001b[0m \u001b[38;5;28mprint\u001b[39m(frames\u001b[38;5;241m.\u001b[39mshape)\n",
      "\u001b[1;31mNameError\u001b[0m: name 'np' is not defined"
     ]
    }
   ],
   "source": [
    "frames = np.asarray(frames)\n",
    "print(frames.shape)"
   ]
  },
  {
   "cell_type": "code",
   "execution_count": 16,
   "metadata": {
    "colab": {
     "base_uri": "https://localhost:8080/",
     "height": 1000
    },
    "executionInfo": {
     "elapsed": 7009,
     "status": "ok",
     "timestamp": 1705576897769,
     "user": {
      "displayName": "phd india",
      "userId": "15133022939019148607"
     },
     "user_tz": -330
    },
    "id": "eZxI4hMMxukO",
    "outputId": "64e7fbb1-a95c-4ca3-d07a-cde92fbb3c89"
   },
   "outputs": [
    {
     "ename": "AttributeError",
     "evalue": "'list' object has no attribute 'shape'",
     "output_type": "error",
     "traceback": [
      "\u001b[1;31m---------------------------------------------------------------------------\u001b[0m",
      "\u001b[1;31mAttributeError\u001b[0m                            Traceback (most recent call last)",
      "Cell \u001b[1;32mIn[16], line 3\u001b[0m\n\u001b[0;32m      1\u001b[0m random_state \u001b[38;5;241m=\u001b[39m \u001b[38;5;241m42\u001b[39m\n\u001b[0;32m      2\u001b[0m num_frames_to_select \u001b[38;5;241m=\u001b[39m \u001b[38;5;241m16\u001b[39m\n\u001b[1;32m----> 3\u001b[0m num_videos \u001b[38;5;241m=\u001b[39m frames\u001b[38;5;241m.\u001b[39mshape[\u001b[38;5;241m0\u001b[39m]\n\u001b[0;32m      4\u001b[0m random_video_indices \u001b[38;5;241m=\u001b[39m np\u001b[38;5;241m.\u001b[39mrandom\u001b[38;5;241m.\u001b[39mchoice(num_videos, num_frames_to_select, replace\u001b[38;5;241m=\u001b[39m\u001b[38;5;28;01mFalse\u001b[39;00m)\n\u001b[0;32m      6\u001b[0m fig, axes \u001b[38;5;241m=\u001b[39m plt\u001b[38;5;241m.\u001b[39msubplots(nrows\u001b[38;5;241m=\u001b[39m\u001b[38;5;241m4\u001b[39m, ncols\u001b[38;5;241m=\u001b[39m\u001b[38;5;241m4\u001b[39m, figsize\u001b[38;5;241m=\u001b[39m(\u001b[38;5;241m10\u001b[39m, \u001b[38;5;241m10\u001b[39m))\n",
      "\u001b[1;31mAttributeError\u001b[0m: 'list' object has no attribute 'shape'"
     ]
    }
   ],
   "source": [
    "random_state = 42\n",
    "num_frames_to_select = 16\n",
    "num_videos = frames.shape[0]\n",
    "random_video_indices = np.random.choice(num_videos, num_frames_to_select, replace=False)\n",
    "\n",
    "fig, axes = plt.subplots(nrows=4, ncols=4, figsize=(10, 10))\n",
    "axes_flat = axes.flatten()\n",
    "\n",
    "for i, video_index in enumerate(random_video_indices):\n",
    "    ax = axes_flat[i]\n",
    "    random_frame_index = np.random.choice(frames[video_index].shape[0], 1)[0]\n",
    "    frame = frames[video_index][random_frame_index]\n",
    "    target_name = class_labels[target_labels[video_index]]\n",
    "    frame= cv2.normalize(frame, None, 0, 255, cv2.NORM_MINMAX)\n",
    "    frame = frame.astype(np.uint8)\n",
    "    frame = cv2.cvtColor(frame, cv2.COLOR_BGR2RGB)\n",
    "    ax.imshow(frame)\n",
    "    ax.set_title(f'Target: {target_name}')\n",
    "    ax.axis(\"off\")\n",
    "\n",
    "plt.tight_layout()\n",
    "plt.show()"
   ]
  },
  {
   "cell_type": "code",
   "execution_count": 17,
   "metadata": {
    "colab": {
     "base_uri": "https://localhost:8080/"
    },
    "executionInfo": {
     "elapsed": 541,
     "status": "ok",
     "timestamp": 1705576904949,
     "user": {
      "displayName": "phd india",
      "userId": "15133022939019148607"
     },
     "user_tz": -330
    },
    "id": "z2VIQy0o4yOZ",
    "outputId": "1aa6c4b1-56f2-4bc1-af2c-6b4cde4c5687"
   },
   "outputs": [
    {
     "ename": "NameError",
     "evalue": "name 'np' is not defined",
     "output_type": "error",
     "traceback": [
      "\u001b[1;31m---------------------------------------------------------------------------\u001b[0m",
      "\u001b[1;31mNameError\u001b[0m                                 Traceback (most recent call last)",
      "Cell \u001b[1;32mIn[17], line 1\u001b[0m\n\u001b[1;32m----> 1\u001b[0m frames \u001b[38;5;241m=\u001b[39m np\u001b[38;5;241m.\u001b[39masarray(frames)\n\u001b[0;32m      2\u001b[0m target_labels \u001b[38;5;241m=\u001b[39m tf\u001b[38;5;241m.\u001b[39mkeras\u001b[38;5;241m.\u001b[39mutils\u001b[38;5;241m.\u001b[39mto_categorical(target_labels)\n\u001b[0;32m      4\u001b[0m \u001b[38;5;28mprint\u001b[39m(frames\u001b[38;5;241m.\u001b[39mshape)\n",
      "\u001b[1;31mNameError\u001b[0m: name 'np' is not defined"
     ]
    }
   ],
   "source": [
    "frames = np.asarray(frames)\n",
    "target_labels = tf.keras.utils.to_categorical(target_labels)\n",
    "\n",
    "print(frames.shape)\n",
    "print(target_labels.shape)"
   ]
  },
  {
   "cell_type": "markdown",
   "metadata": {},
   "source": [
    "# Data Splitting"
   ]
  },
  {
   "cell_type": "code",
   "execution_count": 18,
   "metadata": {
    "colab": {
     "base_uri": "https://localhost:8080/"
    },
    "executionInfo": {
     "elapsed": 787,
     "status": "ok",
     "timestamp": 1705576915462,
     "user": {
      "displayName": "phd india",
      "userId": "15133022939019148607"
     },
     "user_tz": -330
    },
    "id": "VUu1osvITHNQ",
    "outputId": "3b36915d-80b5-43e3-c48d-82039511cdc5"
   },
   "outputs": [
    {
     "ename": "NameError",
     "evalue": "name 'train_test_split' is not defined",
     "output_type": "error",
     "traceback": [
      "\u001b[1;31m---------------------------------------------------------------------------\u001b[0m",
      "\u001b[1;31mNameError\u001b[0m                                 Traceback (most recent call last)",
      "Cell \u001b[1;32mIn[18], line 1\u001b[0m\n\u001b[1;32m----> 1\u001b[0m X_train, X_val, y_train, y_val \u001b[38;5;241m=\u001b[39m train_test_split(frames, target_labels, test_size\u001b[38;5;241m=\u001b[39m\u001b[38;5;241m0.1\u001b[39m, random_state\u001b[38;5;241m=\u001b[39m\u001b[38;5;241m42\u001b[39m)\n\u001b[0;32m      2\u001b[0m \u001b[38;5;28mprint\u001b[39m(X_train\u001b[38;5;241m.\u001b[39mshape, X_val\u001b[38;5;241m.\u001b[39mshape, y_train\u001b[38;5;241m.\u001b[39mshape, y_val\u001b[38;5;241m.\u001b[39mshape)\n",
      "\u001b[1;31mNameError\u001b[0m: name 'train_test_split' is not defined"
     ]
    }
   ],
   "source": [
    "X_train, X_val, y_train, y_val = train_test_split(frames, target_labels, test_size=0.1, random_state=42)\n",
    "print(X_train.shape, X_val.shape, y_train.shape, y_val.shape)"
   ]
  },
  {
   "cell_type": "code",
   "execution_count": 19,
   "metadata": {
    "colab": {
     "base_uri": "https://localhost:8080/"
    },
    "executionInfo": {
     "elapsed": 5,
     "status": "ok",
     "timestamp": 1705576918444,
     "user": {
      "displayName": "phd india",
      "userId": "15133022939019148607"
     },
     "user_tz": -330
    },
    "id": "v7EVx4oWT0H0",
    "outputId": "4302d4b5-868e-4428-97d2-bf1631383751"
   },
   "outputs": [
    {
     "data": {
      "text/plain": [
       "4878"
      ]
     },
     "execution_count": 19,
     "metadata": {},
     "output_type": "execute_result"
    }
   ],
   "source": [
    "del frames\n",
    "del target_labels\n",
    "gc.collect()"
   ]
  },
  {
   "cell_type": "markdown",
   "metadata": {},
   "source": [
    "# Algorithm: ConvolutionalLongShort-TermMemory"
   ]
  },
  {
   "cell_type": "code",
   "execution_count": 20,
   "metadata": {
    "executionInfo": {
     "elapsed": 9211,
     "status": "ok",
     "timestamp": 1705576933049,
     "user": {
      "displayName": "phd india",
      "userId": "15133022939019148607"
     },
     "user_tz": -330
    },
    "id": "-9nupo0c6Obg"
   },
   "outputs": [
    {
     "ename": "NameError",
     "evalue": "name 'tf' is not defined",
     "output_type": "error",
     "traceback": [
      "\u001b[1;31m---------------------------------------------------------------------------\u001b[0m",
      "\u001b[1;31mNameError\u001b[0m                                 Traceback (most recent call last)",
      "Cell \u001b[1;32mIn[20], line 1\u001b[0m\n\u001b[1;32m----> 1\u001b[0m model \u001b[38;5;241m=\u001b[39m tf\u001b[38;5;241m.\u001b[39mkeras\u001b[38;5;241m.\u001b[39mSequential()\n\u001b[0;32m      3\u001b[0m model\u001b[38;5;241m.\u001b[39madd(tf\u001b[38;5;241m.\u001b[39mkeras\u001b[38;5;241m.\u001b[39mlayers\u001b[38;5;241m.\u001b[39mInput(shape\u001b[38;5;241m=\u001b[39m(data_length, image_height, image_width, \u001b[38;5;241m3\u001b[39m)))\n\u001b[0;32m      5\u001b[0m model\u001b[38;5;241m.\u001b[39madd(tf\u001b[38;5;241m.\u001b[39mkeras\u001b[38;5;241m.\u001b[39mlayers\u001b[38;5;241m.\u001b[39mConvLSTM2D(filters \u001b[38;5;241m=\u001b[39m \u001b[38;5;241m32\u001b[39m, kernel_size \u001b[38;5;241m=\u001b[39m (\u001b[38;5;241m3\u001b[39m, \u001b[38;5;241m3\u001b[39m), activation \u001b[38;5;241m=\u001b[39m \u001b[38;5;124m'\u001b[39m\u001b[38;5;124mtanh\u001b[39m\u001b[38;5;124m'\u001b[39m,data_format \u001b[38;5;241m=\u001b[39m \u001b[38;5;124m\"\u001b[39m\u001b[38;5;124mchannels_last\u001b[39m\u001b[38;5;124m\"\u001b[39m,recurrent_dropout\u001b[38;5;241m=\u001b[39m\u001b[38;5;241m0.2\u001b[39m, return_sequences\u001b[38;5;241m=\u001b[39m\u001b[38;5;28;01mTrue\u001b[39;00m))\n",
      "\u001b[1;31mNameError\u001b[0m: name 'tf' is not defined"
     ]
    }
   ],
   "source": [
    "model = tf.keras.Sequential()\n",
    "\n",
    "model.add(tf.keras.layers.Input(shape=(data_length, image_height, image_width, 3)))\n",
    "\n",
    "model.add(tf.keras.layers.ConvLSTM2D(filters = 32, kernel_size = (3, 3), activation = 'tanh',data_format = \"channels_last\",recurrent_dropout=0.2, return_sequences=True))\n",
    "model.add(tf.keras.layers.MaxPool3D(pool_size=(1, 2, 2), padding='same', data_format='channels_last'))\n",
    "\n",
    "model.add(tf.keras.layers.ConvLSTM2D(filters = 64, kernel_size = (3, 3), activation = 'tanh', data_format = \"channels_last\",recurrent_dropout=0.2, return_sequences=True))\n",
    "model.add(tf.keras.layers.MaxPool3D(pool_size=(1, 2, 2), padding='same', data_format='channels_last'))\n",
    "\n",
    "model.add(tf.keras.layers.ConvLSTM2D(filters = 128, kernel_size = (3, 3), activation = 'tanh', data_format = \"channels_last\",recurrent_dropout=0.2, return_sequences=True))\n",
    "model.add(tf.keras.layers.MaxPool3D(pool_size=(1, 2, 2), padding='same', data_format='channels_last'))\n",
    "\n",
    "model.add(tf.keras.layers.ConvLSTM2D(filters = 256, kernel_size = (3, 3), activation = 'tanh', data_format = \"channels_last\",recurrent_dropout=0.2, return_sequences=True))\n",
    "model.add(tf.keras.layers.MaxPool3D(pool_size=(1, 2, 2), padding='same', data_format='channels_last'))\n",
    "\n",
    "model.add(tf.keras.layers.ConvLSTM2D(filters = 512, kernel_size = (3, 3), activation = 'tanh', data_format = \"channels_last\",recurrent_dropout=0.2, return_sequences=True))\n",
    "model.add(tf.keras.layers.MaxPool3D(pool_size=(1, 2, 2), padding='same', data_format='channels_last'))\n",
    "\n",
    "model.add(tf.keras.layers.ConvLSTM2D(filters = 512, kernel_size = (2, 2), activation = 'tanh', data_format = \"channels_last\",recurrent_dropout=0.2, return_sequences=True))\n",
    "model.add(tf.keras.layers.MaxPool3D(pool_size=(1, 2, 2), padding='same', data_format='channels_last'))\n",
    "\n",
    "model.add(tf.keras.layers.Flatten())\n",
    "model.add(tf.keras.layers.Dropout(0.4))\n",
    "\n",
    "model.add(tf.keras.layers.Dense(units=512))\n",
    "model.add(tf.keras.layers.Dense(units=len(class_labels), activation = \"softmax\"))"
   ]
  },
  {
   "cell_type": "code",
   "execution_count": 21,
   "metadata": {
    "colab": {
     "base_uri": "https://localhost:8080/"
    },
    "executionInfo": {
     "elapsed": 560,
     "status": "ok",
     "timestamp": 1705576935999,
     "user": {
      "displayName": "phd india",
      "userId": "15133022939019148607"
     },
     "user_tz": -330
    },
    "id": "QpHEcJW3EQCs",
    "outputId": "8b131a69-164c-4067-f033-6e197725c992"
   },
   "outputs": [
    {
     "ename": "NameError",
     "evalue": "name 'model' is not defined",
     "output_type": "error",
     "traceback": [
      "\u001b[1;31m---------------------------------------------------------------------------\u001b[0m",
      "\u001b[1;31mNameError\u001b[0m                                 Traceback (most recent call last)",
      "Cell \u001b[1;32mIn[21], line 1\u001b[0m\n\u001b[1;32m----> 1\u001b[0m model\u001b[38;5;241m.\u001b[39msummary()\n",
      "\u001b[1;31mNameError\u001b[0m: name 'model' is not defined"
     ]
    }
   ],
   "source": [
    "model.summary()"
   ]
  },
  {
   "cell_type": "code",
   "execution_count": 22,
   "metadata": {
    "executionInfo": {
     "elapsed": 5,
     "status": "ok",
     "timestamp": 1705576979442,
     "user": {
      "displayName": "phd india",
      "userId": "15133022939019148607"
     },
     "user_tz": -330
    },
    "id": "PL4xzdfMNPbI"
   },
   "outputs": [
    {
     "ename": "NameError",
     "evalue": "name 'model' is not defined",
     "output_type": "error",
     "traceback": [
      "\u001b[1;31m---------------------------------------------------------------------------\u001b[0m",
      "\u001b[1;31mNameError\u001b[0m                                 Traceback (most recent call last)",
      "Cell \u001b[1;32mIn[22], line 1\u001b[0m\n\u001b[1;32m----> 1\u001b[0m model\u001b[38;5;241m.\u001b[39mcompile(loss\u001b[38;5;241m=\u001b[39m\u001b[38;5;124m'\u001b[39m\u001b[38;5;124mcategorical_crossentropy\u001b[39m\u001b[38;5;124m'\u001b[39m,  optimizer\u001b[38;5;241m=\u001b[39mtf\u001b[38;5;241m.\u001b[39mkeras\u001b[38;5;241m.\u001b[39moptimizers\u001b[38;5;241m.\u001b[39mAdam(learning_rate\u001b[38;5;241m=\u001b[39m\u001b[38;5;241m0.0001\u001b[39m), metrics\u001b[38;5;241m=\u001b[39m[\u001b[38;5;124m\"\u001b[39m\u001b[38;5;124maccuracy\u001b[39m\u001b[38;5;124m\"\u001b[39m])\n",
      "\u001b[1;31mNameError\u001b[0m: name 'model' is not defined"
     ]
    }
   ],
   "source": [
    "model.compile(loss='categorical_crossentropy',  optimizer=tf.keras.optimizers.Adam(learning_rate=0.0001), metrics=[\"accuracy\"])"
   ]
  },
  {
   "cell_type": "markdown",
   "metadata": {},
   "source": [
    "# Model Training"
   ]
  },
  {
   "cell_type": "code",
   "execution_count": 23,
   "metadata": {
    "colab": {
     "base_uri": "https://localhost:8080/"
    },
    "executionInfo": {
     "elapsed": 2021899,
     "status": "ok",
     "timestamp": 1705579032511,
     "user": {
      "displayName": "phd india",
      "userId": "15133022939019148607"
     },
     "user_tz": -330
    },
    "id": "9j05HiXrjbx5",
    "outputId": "fbe3e4b3-be9b-4a91-ff0a-2ca67c9dabfd"
   },
   "outputs": [
    {
     "ename": "NameError",
     "evalue": "name 'model' is not defined",
     "output_type": "error",
     "traceback": [
      "\u001b[1;31m---------------------------------------------------------------------------\u001b[0m",
      "\u001b[1;31mNameError\u001b[0m                                 Traceback (most recent call last)",
      "Cell \u001b[1;32mIn[23], line 3\u001b[0m\n\u001b[0;32m      1\u001b[0m EPOCHS \u001b[38;5;241m=\u001b[39m \u001b[38;5;241m50\u001b[39m\n\u001b[1;32m----> 3\u001b[0m history \u001b[38;5;241m=\u001b[39m model\u001b[38;5;241m.\u001b[39mfit(x\u001b[38;5;241m=\u001b[39mX_train,\n\u001b[0;32m      4\u001b[0m                     y\u001b[38;5;241m=\u001b[39my_train,\n\u001b[0;32m      5\u001b[0m                     epochs\u001b[38;5;241m=\u001b[39mEPOCHS,\n\u001b[0;32m      6\u001b[0m                     batch_size\u001b[38;5;241m=\u001b[39m\u001b[38;5;241m4\u001b[39m,\n\u001b[0;32m      7\u001b[0m                     validation_split\u001b[38;5;241m=\u001b[39m\u001b[38;5;241m0.2\u001b[39m,\n\u001b[0;32m      8\u001b[0m                     callbacks\u001b[38;5;241m=\u001b[39m[tf\u001b[38;5;241m.\u001b[39mkeras\u001b[38;5;241m.\u001b[39mcallbacks\u001b[38;5;241m.\u001b[39mReduceLROnPlateau(monitor\u001b[38;5;241m=\u001b[39m\u001b[38;5;124m\"\u001b[39m\u001b[38;5;124mval_accuracy\u001b[39m\u001b[38;5;124m\"\u001b[39m, patience\u001b[38;5;241m=\u001b[39m\u001b[38;5;241m2\u001b[39m, min_lr\u001b[38;5;241m=\u001b[39m\u001b[38;5;241m0\u001b[39m)])\n",
      "\u001b[1;31mNameError\u001b[0m: name 'model' is not defined"
     ]
    }
   ],
   "source": [
    "EPOCHS = 50\n",
    "\n",
    "history = model.fit(x=X_train,\n",
    "                    y=y_train,\n",
    "                    epochs=EPOCHS,\n",
    "                    batch_size=4,\n",
    "                    validation_split=0.2,\n",
    "                    callbacks=[tf.keras.callbacks.ReduceLROnPlateau(monitor=\"val_accuracy\", patience=2, min_lr=0)])"
   ]
  },
  {
   "cell_type": "code",
   "execution_count": null,
   "metadata": {
    "colab": {
     "base_uri": "https://localhost:8080/",
     "height": 657
    },
    "executionInfo": {
     "elapsed": 1463,
     "status": "ok",
     "timestamp": 1705579072572,
     "user": {
      "displayName": "phd india",
      "userId": "15133022939019148607"
     },
     "user_tz": -330
    },
    "id": "giWhrDUgEBw3",
    "outputId": "4738b84a-ef6b-4188-8e00-73c2570b15f0"
   },
   "outputs": [],
   "source": [
    "fig,axes=plt.subplots(nrows=2,ncols=1,figsize=(15,10))\n",
    "plt.rcParams[\"font.size\"]=15\n",
    "axes[0].plot(history.history['accuracy'],label='Accuracy',marker='o')\n",
    "axes[0].plot(history.history['val_accuracy'],label='Val_Accuracy',marker='o')\n",
    "axes[0].set_title(label='Accuracy plot-graphs')\n",
    "axes[0].set_xlabel(xlabel='Epochs')\n",
    "axes[0].set_ylabel(ylabel='Accuracy')\n",
    "axes[0].legend()\n",
    "axes[0].grid()\n",
    "axes[1].plot(history.history['loss'],label='Loss',marker='o')\n",
    "axes[1].plot(history.history['val_loss'],label='Val_Loss',marker='o')\n",
    "axes[1].set_title(label='Loss plot-graphs')\n",
    "axes[1].set_xlabel(xlabel='Epochs')\n",
    "axes[1].set_ylabel(ylabel='Loss')\n",
    "axes[1].legend()\n",
    "axes[1].grid()\n",
    "fig.tight_layout()\n",
    "plt.show()"
   ]
  },
  {
   "cell_type": "markdown",
   "metadata": {
    "id": "dHsiNr4-Nyvy"
   },
   "source": [
    "# Model Prediction"
   ]
  },
  {
   "cell_type": "code",
   "execution_count": null,
   "metadata": {
    "colab": {
     "base_uri": "https://localhost:8080/"
    },
    "executionInfo": {
     "elapsed": 3659,
     "status": "ok",
     "timestamp": 1705579082623,
     "user": {
      "displayName": "phd india",
      "userId": "15133022939019148607"
     },
     "user_tz": -330
    },
    "id": "UA8yPzfbtiZ_",
    "outputId": "7578433c-12cb-48f0-a807-364baf108128"
   },
   "outputs": [
    {
     "name": "stdout",
     "output_type": "stream",
     "text": [
      "3/3 [==============================] - 3s 326ms/step\n",
      "[[4.80206795e-02 5.54828439e-04 9.51424479e-01 2.11192237e-08\n",
      "  3.54306984e-08]\n",
      " [1.16561912e-03 3.75573453e-03 1.20050493e-06 3.74445459e-03\n",
      "  9.91332948e-01]\n",
      " [2.27503733e-05 1.10231103e-05 1.30241318e-09 2.43510641e-07\n",
      "  9.99966025e-01]\n",
      " [1.39378046e-03 1.08858821e-07 6.74963800e-08 9.97265339e-01\n",
      "  1.34064758e-03]\n",
      " [9.99983549e-01 1.20115806e-10 2.45685305e-10 4.17169849e-06\n",
      "  1.22346619e-05]\n",
      " [6.70930822e-05 8.85715783e-01 4.81954085e-05 2.31437240e-04\n",
      "  1.13937534e-01]\n",
      " [9.78181371e-04 1.18856353e-03 2.42614277e-07 3.84214392e-04\n",
      "  9.97448742e-01]\n",
      " [5.80871289e-12 1.38004616e-11 1.36308126e-11 1.00000000e+00\n",
      "  2.99743258e-10]\n",
      " [4.63538617e-02 7.02321180e-04 6.34482467e-06 3.60453292e-03\n",
      "  9.49332952e-01]\n",
      " [2.46717373e-05 3.23366791e-01 2.28445492e-06 7.72975269e-04\n",
      "  6.75833285e-01]\n",
      " [1.51028991e-01 3.19433808e-02 8.17019343e-01 2.01026964e-07\n",
      "  8.07326251e-06]\n",
      " [4.92706778e-04 2.07329877e-02 6.53893039e-06 1.44049376e-02\n",
      "  9.64362800e-01]\n",
      " [1.70859433e-08 3.44130890e-10 4.24442348e-08 1.00000000e+00\n",
      "  1.04977471e-09]\n",
      " [3.64806008e-04 1.13676174e-06 7.09412129e-09 1.04585139e-03\n",
      "  9.98588145e-01]\n",
      " [9.99949813e-01 4.63139486e-06 3.10755568e-05 1.08792283e-05\n",
      "  3.52026268e-06]\n",
      " [2.01854946e-05 2.83669098e-04 4.31840093e-08 2.65700828e-06\n",
      "  9.99693513e-01]\n",
      " [4.91866440e-01 1.31431513e-03 2.23270535e-01 2.83538252e-01\n",
      "  1.04167193e-05]\n",
      " [3.33462842e-04 8.45473987e-05 8.57873772e-09 9.80148434e-06\n",
      "  9.99572217e-01]\n",
      " [9.99996305e-01 5.99942407e-09 2.99523276e-06 6.53702898e-07\n",
      "  2.68122968e-10]\n",
      " [2.01771909e-04 2.76043173e-03 4.08643416e-07 1.16387646e-05\n",
      "  9.97025788e-01]\n",
      " [4.51797852e-04 4.64304630e-03 1.12830708e-06 2.78021562e-05\n",
      "  9.94876206e-01]\n",
      " [1.10624405e-02 1.79400464e-04 2.19351732e-05 5.15022373e-04\n",
      "  9.88221228e-01]\n",
      " [1.81977615e-01 7.20471799e-01 5.33023588e-02 2.31985319e-02\n",
      "  2.10497789e-02]\n",
      " [6.43241964e-03 5.94149169e-04 5.85420366e-07 2.64387432e-04\n",
      "  9.92708504e-01]\n",
      " [9.99966621e-01 1.66021452e-09 1.73538737e-07 3.31534320e-05\n",
      "  4.54834606e-08]\n",
      " [5.68175595e-03 9.21009414e-05 9.94226158e-01 4.53016007e-08\n",
      "  1.36080133e-10]\n",
      " [1.67764071e-07 8.74792647e-07 2.60455693e-08 9.99998927e-01\n",
      "  1.53891655e-08]\n",
      " [4.24027292e-07 3.32794007e-05 1.87433824e-09 2.66911429e-05\n",
      "  9.99939561e-01]\n",
      " [9.98290241e-01 1.06901528e-11 4.49033866e-11 1.60563423e-03\n",
      "  1.04167317e-04]\n",
      " [2.47203169e-12 5.20278655e-12 6.77663307e-12 1.00000000e+00\n",
      "  3.24022031e-09]\n",
      " [3.74063056e-05 4.97058481e-01 1.80862135e-05 1.29305467e-04\n",
      "  5.02756774e-01]\n",
      " [1.23224891e-04 6.87443915e-08 3.58994057e-10 4.10321118e-05\n",
      "  9.99835610e-01]\n",
      " [9.99996185e-01 7.10251147e-09 2.61712376e-06 1.22297706e-06\n",
      "  2.02208833e-10]\n",
      " [2.11124808e-01 4.40262347e-01 8.53476813e-04 1.87511428e-03\n",
      "  3.45884204e-01]\n",
      " [5.39885241e-06 1.47683972e-08 9.19243206e-08 9.99993086e-01\n",
      "  1.45940169e-06]\n",
      " [9.43999946e-01 1.02845822e-02 6.31690607e-04 1.34541211e-03\n",
      "  4.37384732e-02]\n",
      " [1.96035504e-02 8.98843884e-01 4.32790519e-04 4.91765216e-02\n",
      "  3.19432691e-02]\n",
      " [1.32690696e-02 1.10451056e-05 9.86719906e-01 4.03287324e-08\n",
      "  6.36545427e-10]\n",
      " [7.07563345e-07 1.38817444e-10 9.99999285e-01 8.82304924e-15\n",
      "  1.17492796e-18]\n",
      " [2.80774900e-11 3.89947108e-13 1.64147324e-11 1.00000000e+00\n",
      "  1.57219307e-10]\n",
      " [9.12014365e-01 2.50705499e-02 5.70887439e-02 1.33586046e-03\n",
      "  4.49050032e-03]\n",
      " [9.98548925e-01 6.99011784e-04 7.28519226e-04 1.91994532e-05\n",
      "  4.45744445e-06]\n",
      " [3.03845387e-04 6.49194262e-05 9.99630809e-01 1.61216533e-07\n",
      "  2.85185024e-07]\n",
      " [5.45608923e-02 5.37100494e-01 4.04217482e-01 1.28083501e-03\n",
      "  2.84024654e-03]\n",
      " [1.53133273e-01 5.33752032e-02 3.92182963e-03 1.55020915e-02\n",
      "  7.74067640e-01]\n",
      " [9.99991059e-01 2.04842421e-10 1.07025722e-10 9.62682861e-07\n",
      "  7.97860594e-06]\n",
      " [9.98922229e-01 2.34839987e-04 4.23035177e-04 4.09481843e-04\n",
      "  1.04446344e-05]\n",
      " [3.72645841e-03 2.23678574e-02 5.29635727e-05 3.38634389e-04\n",
      "  9.73514080e-01]\n",
      " [1.91656873e-02 6.12563042e-07 9.80833650e-01 1.01777985e-07\n",
      "  2.93980708e-11]\n",
      " [2.01179576e-03 9.75443516e-03 6.69552810e-06 9.87548113e-01\n",
      "  6.78902434e-04]\n",
      " [6.87081087e-03 8.84138227e-01 7.34184810e-04 3.72259878e-02\n",
      "  7.10307509e-02]\n",
      " [9.77215350e-01 3.79209494e-04 1.64463600e-05 5.94026933e-04\n",
      "  2.17951108e-02]\n",
      " [4.67719155e-06 1.18798571e-08 9.99995351e-01 3.86937487e-12\n",
      "  1.36512764e-15]\n",
      " [9.99990463e-01 2.49686263e-08 5.95787833e-06 3.57666590e-06\n",
      "  3.79378140e-10]\n",
      " [9.65910494e-01 3.26677524e-02 8.63284586e-05 1.10407251e-04\n",
      "  1.22507138e-03]\n",
      " [6.33714795e-02 5.53751111e-01 1.25985881e-02 3.09750717e-03\n",
      "  3.67181361e-01]\n",
      " [5.29633435e-05 2.83506465e-12 9.99947071e-01 6.51572242e-12\n",
      "  8.72504568e-18]\n",
      " [2.77358777e-05 9.99809086e-01 1.59650212e-04 2.56384965e-06\n",
      "  9.20266359e-07]\n",
      " [1.08962871e-04 1.83303811e-04 1.27031441e-07 9.82596695e-01\n",
      "  1.71109401e-02]\n",
      " [1.01864953e-02 6.15926228e-06 9.89796937e-01 1.03819129e-05\n",
      "  2.20837588e-08]\n",
      " [9.99913454e-01 1.13995471e-11 7.50177767e-11 9.35968910e-06\n",
      "  7.71007399e-05]\n",
      " [9.99992490e-01 7.44695512e-07 2.07531480e-06 3.19237938e-06\n",
      "  1.50030030e-06]\n",
      " [2.37887818e-02 2.41359293e-01 3.10320553e-04 6.48722099e-03\n",
      "  7.28054345e-01]\n",
      " [6.67920758e-05 7.41122849e-03 1.93084134e-06 2.45929090e-03\n",
      "  9.90060806e-01]\n",
      " [9.28120553e-01 6.65438771e-02 3.14700836e-03 5.77624887e-04\n",
      "  1.61093008e-03]\n",
      " [8.73483776e-04 8.14480055e-03 3.70273938e-06 3.69716654e-05\n",
      "  9.90940988e-01]\n",
      " [7.12036410e-07 1.58546440e-12 9.99999285e-01 1.71579769e-15\n",
      "  1.81902044e-19]\n",
      " [5.20463000e-05 1.59021825e-01 1.04180435e-06 4.29202082e-05\n",
      "  8.40882123e-01]\n",
      " [9.99968767e-01 3.22208820e-08 1.87370151e-05 1.24652934e-05\n",
      "  5.32699107e-10]\n",
      " [4.93464104e-05 3.67353350e-04 1.70506695e-07 4.98666122e-05\n",
      "  9.99533296e-01]\n",
      " [1.33052867e-14 1.28069910e-15 2.74875087e-15 1.00000000e+00\n",
      "  3.24853500e-14]\n",
      " [5.97661824e-07 2.29027186e-10 9.99999404e-01 3.53651743e-12\n",
      "  4.16251412e-17]\n",
      " [9.41379368e-03 3.89006027e-06 2.79914598e-08 3.55631718e-03\n",
      "  9.87025917e-01]\n",
      " [9.11040340e-12 2.59086606e-11 2.50129171e-11 1.00000000e+00\n",
      "  5.23822985e-10]\n",
      " [6.64146006e-01 2.22242321e-03 3.02375364e-03 3.30259860e-01\n",
      "  3.47905647e-04]\n",
      " [1.25860490e-04 2.57007461e-02 2.81283906e-06 9.94479284e-03\n",
      "  9.64225769e-01]\n",
      " [8.55427861e-05 1.60194047e-09 1.86464337e-08 9.99914408e-01\n",
      "  1.59558855e-09]\n",
      " [1.01545602e-05 1.68174356e-02 5.20917456e-06 3.54148506e-05\n",
      "  9.83131766e-01]]\n"
     ]
    }
   ],
   "source": [
    "model_probs = model.predict(X_val, verbose=1)\n",
    "print(model_probs)"
   ]
  },
  {
   "cell_type": "code",
   "execution_count": null,
   "metadata": {
    "colab": {
     "base_uri": "https://localhost:8080/"
    },
    "executionInfo": {
     "elapsed": 6,
     "status": "ok",
     "timestamp": 1705579084573,
     "user": {
      "displayName": "phd india",
      "userId": "15133022939019148607"
     },
     "user_tz": -330
    },
    "id": "7xqi1jVZt2V_",
    "outputId": "c67c8aa9-c5a7-4362-ed11-e1b0558dc07f"
   },
   "outputs": [
    {
     "name": "stdout",
     "output_type": "stream",
     "text": [
      "[2, 4, 4, 3, 0, 1, 4, 3, 4, 4, 2, 4, 3, 4, 0, 4, 0, 4, 0, 4, 4, 4, 1, 4, 0, 2, 3, 4, 0, 3, 4, 4, 0, 1, 3, 0, 1, 2, 2, 3, 0, 0, 2, 1, 4, 0, 0, 4, 2, 3, 1, 0, 2, 0, 0, 1, 2, 1, 3, 2, 0, 0, 4, 4, 0, 4, 2, 4, 0, 4, 3, 2, 4, 3, 0, 4, 3, 4]\n"
     ]
    }
   ],
   "source": [
    "model_labels=np.argmax(model_probs, axis=1)\n",
    "print(model_labels.tolist())"
   ]
  },
  {
   "cell_type": "code",
   "execution_count": null,
   "metadata": {
    "colab": {
     "base_uri": "https://localhost:8080/"
    },
    "executionInfo": {
     "elapsed": 3,
     "status": "ok",
     "timestamp": 1705579086210,
     "user": {
      "displayName": "phd india",
      "userId": "15133022939019148607"
     },
     "user_tz": -330
    },
    "id": "uSOEQVAFt2N4",
    "outputId": "636c8d76-2ee9-47c7-ca90-75269d50acff"
   },
   "outputs": [
    {
     "name": "stdout",
     "output_type": "stream",
     "text": [
      "[2, 4, 4, 3, 0, 1, 4, 3, 4, 1, 2, 3, 3, 4, 0, 4, 3, 4, 0, 4, 4, 4, 1, 4, 0, 2, 3, 4, 0, 3, 4, 4, 0, 4, 3, 1, 1, 2, 2, 3, 0, 0, 2, 2, 4, 0, 0, 4, 2, 1, 0, 0, 2, 0, 0, 1, 2, 1, 3, 2, 0, 0, 0, 3, 0, 4, 2, 1, 0, 4, 3, 2, 1, 3, 1, 4, 3, 4]\n"
     ]
    }
   ],
   "source": [
    "true_labels=np.argmax(y_val,axis=1)\n",
    "print(true_labels.tolist())"
   ]
  },
  {
   "cell_type": "markdown",
   "metadata": {
    "id": "50967120"
   },
   "source": [
    "# Result Analysis"
   ]
  },
  {
   "cell_type": "markdown",
   "metadata": {
    "id": "kcFWilgzsHfx"
   },
   "source": [
    "***Accuracy Score***"
   ]
  },
  {
   "cell_type": "code",
   "execution_count": null,
   "metadata": {
    "colab": {
     "base_uri": "https://localhost:8080/"
    },
    "executionInfo": {
     "elapsed": 524,
     "status": "ok",
     "timestamp": 1705579091932,
     "user": {
      "displayName": "phd india",
      "userId": "15133022939019148607"
     },
     "user_tz": -330
    },
    "id": "f7bdb767",
    "outputId": "b9ab6a23-a5f5-4d00-b08a-afd008c1e281"
   },
   "outputs": [
    {
     "name": "stdout",
     "output_type": "stream",
     "text": [
      "Validation accuracy of ConvolutionalLongShort-TermMemory model is 83.33%\n"
     ]
    }
   ],
   "source": [
    "model_accuracy=accuracy_score(y_true=true_labels,y_pred=model_labels)\n",
    "print(f\"Validation accuracy of ConvolutionalLongShort-TermMemory model is {model_accuracy*100.0:.2f}%\")"
   ]
  },
  {
   "cell_type": "markdown",
   "metadata": {
    "id": "V_8JUVzvsMLo"
   },
   "source": [
    "***Classification Report***"
   ]
  },
  {
   "cell_type": "code",
   "execution_count": null,
   "metadata": {
    "colab": {
     "base_uri": "https://localhost:8080/"
    },
    "executionInfo": {
     "elapsed": 4,
     "status": "ok",
     "timestamp": 1705579095741,
     "user": {
      "displayName": "phd india",
      "userId": "15133022939019148607"
     },
     "user_tz": -330
    },
    "id": "xx1r7Cd8ddRw",
    "outputId": "69b4edce-0067-4d89-c247-474e2ac899ce"
   },
   "outputs": [
    {
     "name": "stdout",
     "output_type": "stream",
     "text": [
      "              precision    recall  f1-score   support\n",
      "\n",
      "  basketball       0.85      0.89      0.87        19\n",
      "      biking       0.62      0.45      0.53        11\n",
      "      diving       1.00      0.92      0.96        13\n",
      "  golf_swing       0.92      0.79      0.85        14\n",
      "horse_riding       0.77      0.95      0.85        21\n",
      "\n",
      "    accuracy                           0.83        78\n",
      "   macro avg       0.83      0.80      0.81        78\n",
      "weighted avg       0.83      0.83      0.83        78\n",
      "\n"
     ]
    }
   ],
   "source": [
    "print(classification_report(y_true=true_labels, y_pred=model_labels, target_names=class_labels))"
   ]
  },
  {
   "cell_type": "markdown",
   "metadata": {
    "id": "sXIP6NyYumUZ"
   },
   "source": [
    "***Confusion Matrix***"
   ]
  },
  {
   "cell_type": "code",
   "execution_count": null,
   "metadata": {
    "colab": {
     "base_uri": "https://localhost:8080/",
     "height": 587
    },
    "executionInfo": {
     "elapsed": 1182,
     "status": "ok",
     "timestamp": 1705579100704,
     "user": {
      "displayName": "phd india",
      "userId": "15133022939019148607"
     },
     "user_tz": -330
    },
    "id": "be7625da",
    "outputId": "12a43ba2-b0d3-4812-eb20-729443041fc4"
   },
   "outputs": [
    {
     "data": {
      "image/png": "[encoded data removed]",
      "text/plain": [
       "<Figure size 500x500 with 1 Axes>"
      ]
     },
     "metadata": {},
     "output_type": "display_data"
    }
   ],
   "source": [
    "plt.figure(figsize=(5,5))\n",
    "plt.rcParams['font.size']=15\n",
    "sns.heatmap(data=confusion_matrix(y_true=true_labels,y_pred=model_labels),\n",
    "            cmap=plt.cm.Blues,\n",
    "            annot=True,\n",
    "            fmt='4d',\n",
    "            cbar=False,\n",
    "            linecolor='black',\n",
    "            linewidths=0.5,\n",
    "            xticklabels=class_labels,\n",
    "            yticklabels=class_labels)\n",
    "plt.title(label='Confusion Matrix')\n",
    "plt.xticks(rotation=90)\n",
    "plt.yticks(rotation=0)\n",
    "plt.show()"
   ]
  },
  {
   "cell_type": "markdown",
   "metadata": {
    "id": "c6NDHFZ_N3Sd"
   },
   "source": [
    "# Model Saving"
   ]
  },
  {
   "cell_type": "code",
   "execution_count": 33,
   "metadata": {
    "executionInfo": {
     "elapsed": 1385,
     "status": "ok",
     "timestamp": 1705579134734,
     "user": {
      "displayName": "phd india",
      "userId": "15133022939019148607"
     },
     "user_tz": -330
    },
    "id": "83a135fa"
   },
   "outputs": [],
   "source": [
    "model.save(filepath='model/ConvolutionalLongShortTermMemory_model.h5')"
   ]
  },
  {
   "cell_type": "code",
   "execution_count": null,
   "metadata": {
    "id": "WppUGIOVgoSy"
   },
   "outputs": [],
   "source": []
  }
 ],
 "metadata": {
  "accelerator": "GPU",
  "colab": {
   "gpuType": "A100",
   "machine_shape": "hm",
   "provenance": []
  },
  "kernelspec": {
   "display_name": "base",
   "language": "python",
   "name": "python3"
  },
  "language_info": {
   "codemirror_mode": {
    "name": "ipython",
    "version": 3
   },
   "file_extension": ".py",
   "mimetype": "text/x-python",
   "name": "python",
   "nbconvert_exporter": "python",
   "pygments_lexer": "ipython3",
   "version": "3.12.7"
  }
 },
 "nbformat": 4,
 "nbformat_minor": 1
}
